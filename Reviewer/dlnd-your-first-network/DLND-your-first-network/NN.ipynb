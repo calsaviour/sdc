{
 "cells": [
  {
   "cell_type": "code",
   "execution_count": null,
   "metadata": {
    "collapsed": true
   },
   "outputs": [],
   "source": [
    "# Package imports\n",
    "import matplotlib.pyplot as plt\n",
    "import numpy as np\n",
    "import sklearn\n",
    "import sklearn.datasets\n",
    "import sklearn.linear_model\n",
    "import matplotlib\n",
    "\n",
    "# Display plots inline and change default figure size\n",
    "%matplotlib inline\n",
    "matplotlib.rcParams['figure.figsize'] = (10.0, 8.0)"
   ]
  },
  {
   "cell_type": "code",
   "execution_count": null,
   "metadata": {
    "collapsed": false
   },
   "outputs": [],
   "source": [
    "np.random.seed(0)\n",
    "X,y = sklearn.datasets.make_moons(200, noise=0.2)\n",
    "plt.scatter(X[:,0],X[:,1], s=40, c=y, cmap=plt.cm.Spectral)"
   ]
  },
  {
   "cell_type": "code",
   "execution_count": null,
   "metadata": {
    "collapsed": false
   },
   "outputs": [],
   "source": [
    "print (X.shape)\n",
    "print (X[:5])"
   ]
  },
  {
   "cell_type": "code",
   "execution_count": null,
   "metadata": {
    "collapsed": false
   },
   "outputs": [],
   "source": [
    "print (y.shape)\n",
    "print (y[0:5])"
   ]
  },
  {
   "cell_type": "code",
   "execution_count": null,
   "metadata": {
    "collapsed": false
   },
   "outputs": [],
   "source": [
    "b = np.transpose([[2,1]])\n",
    "print (b)"
   ]
  },
  {
   "cell_type": "code",
   "execution_count": null,
   "metadata": {
    "collapsed": false
   },
   "outputs": [],
   "source": [
    "result = X.dot(b)\n",
    "print (result.shape)"
   ]
  },
  {
   "cell_type": "code",
   "execution_count": null,
   "metadata": {
    "collapsed": false
   },
   "outputs": [],
   "source": [
    "np.random.seed(0)\n",
    "nn_input_dim = 2\n",
    "nn_hdim = 3\n",
    "nn_output_dim = 1\n",
    "W1 = np.random.randn(nn_input_dim, nn_hdim) / np.sqrt(nn_input_dim)\n",
    "b1 = np.zeros((1, nn_hdim))\n",
    "W2 = np.random.randn(nn_hdim, nn_output_dim) / np.sqrt(nn_hdim)\n",
    "b2 = np.zeros((1, nn_output_dim))"
   ]
  },
  {
   "cell_type": "code",
   "execution_count": null,
   "metadata": {
    "collapsed": false
   },
   "outputs": [],
   "source": [
    "print (W1)"
   ]
  },
  {
   "cell_type": "code",
   "execution_count": null,
   "metadata": {
    "collapsed": false
   },
   "outputs": [],
   "source": [
    "print (X.shape)\n",
    "print (W1.shape)\n",
    "XW1 = X.dot(W1)\n",
    "print (XW1.shape)\n",
    "print (b1.shape)\n",
    "XW1b1 = XW1 + b1\n",
    "print (XW1b1.shape)"
   ]
  },
  {
   "cell_type": "code",
   "execution_count": null,
   "metadata": {
    "collapsed": false
   },
   "outputs": [],
   "source": [
    "np.array([[0, 1, 1, 0]]).T"
   ]
  },
  {
   "cell_type": "code",
   "execution_count": 13,
   "metadata": {
    "collapsed": false
   },
   "outputs": [
    {
     "name": "stdout",
     "output_type": "stream",
     "text": [
      "[ 0.40000001]\n"
     ]
    }
   ],
   "source": [
    "import numpy as np\n",
    "from numpy import array\n",
    " \n",
    "epochs = 500           # Number of iterations\n",
    "inputLayerSize, hiddenLayerSize, outputLayerSize = 3, 2, 1\n",
    " \n",
    "X = np.array([0.5, -0.2, 0.1])\n",
    "Y = np.array([[0.4]])\n",
    " \n",
    "def sigmoid (x): return 1/(1 + np.exp(-x))      # activation function\n",
    "def sigmoid_(x): return x * (1 - x)             # derivative of sigmoid\n",
    "                                                # weights on layer inputs\n",
    "Wh = np.random.uniform(size=(inputLayerSize, hiddenLayerSize))\n",
    "Wz = np.random.uniform(size=(hiddenLayerSize,outputLayerSize))\n",
    "\n",
    "    \n",
    "for i in range(epochs):\n",
    " \n",
    "    H = sigmoid(np.dot(X, Wh))                  # hidden layer results\n",
    "    Z = sigmoid(np.dot(H, Wz))                  # output layer results\n",
    "    E = Y - Z                                   # how much we missed (error)\n",
    "    dZ = E * sigmoid_(Z)                        # delta Z\n",
    "    dH = dZ.dot(Wz.T) * sigmoid_(H)             # delta H\n",
    "    \n",
    "    Wz +=  (dZ * H).T                          # update output layer weights\n",
    "    \n",
    "    Wh +=  X.reshape(inputLayerSize,1).dot(dH) # update hidden layer weights\n",
    "     \n",
    "print(Z)                # what have we learnt?"
   ]
  },
  {
   "cell_type": "code",
   "execution_count": 15,
   "metadata": {
    "collapsed": false
   },
   "outputs": [
    {
     "name": "stdout",
     "output_type": "stream",
     "text": [
      "(3,)\n",
      "(3, 2)\n",
      "[ 0.49279012  0.59234746]\n"
     ]
    }
   ],
   "source": [
    "print (X.shape)\n",
    "print (Wh.shape)\n",
    "print (H)"
   ]
  },
  {
   "cell_type": "code",
   "execution_count": null,
   "metadata": {
    "collapsed": true
   },
   "outputs": [],
   "source": []
  }
 ],
 "metadata": {
  "kernelspec": {
   "display_name": "Python 3",
   "language": "python",
   "name": "python3"
  },
  "language_info": {
   "codemirror_mode": {
    "name": "ipython",
    "version": 3
   },
   "file_extension": ".py",
   "mimetype": "text/x-python",
   "name": "python",
   "nbconvert_exporter": "python",
   "pygments_lexer": "ipython3",
   "version": "3.5.2"
  },
  "widgets": {
   "state": {},
   "version": "1.1.2"
  }
 },
 "nbformat": 4,
 "nbformat_minor": 2
}
